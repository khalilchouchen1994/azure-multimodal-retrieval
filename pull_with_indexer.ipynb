{
  "cells": [
    {
      "cell_type": "code",
      "execution_count": 22,
      "metadata": {
        "gather": {
          "logged": 1719927585629
        },
        "jupyter": {
          "outputs_hidden": false,
          "source_hidden": false
        },
        "nteract": {
          "transient": {
            "deleting": false
          }
        }
      },
      "outputs": [],
      "source": [
        "from dotenv import load_dotenv\n",
        "from azure.core.credentials import AzureKeyCredential\n",
        "import os\n",
        "\n",
        "load_dotenv(override=True) # take environment variables from .env.\n",
        "\n",
        "# Set up your Azure Search admin key and service endpoint \n",
        "aisearch_endpoint = os.environ[\"AZURE_SEARCH_SERVICE_ENDPOINT\"]\n",
        "aisearch_key = AzureKeyCredential(os.environ[\"AZURE_SEARCH_API_KEY\"])\n",
        "index_name= \"indexer-demo\"\n",
        "\n",
        "storage_account_subscription_id= os.environ[\"AZURE_STORAGE_ACCOUNT_SUB_ID\"]\n",
        "stroage_account_ressource_group_name= os.environ[\"AZURE_STORAGE_ACCOUNT_RG_NAME\"]\n",
        "storage_account_name= os.environ[\"AZURE_STORAGE_ACCOUNT_NAME\"]\n",
        "aisearch_datasource_connection_string= f\"ResourceId=/subscriptions/{storage_account_subscription_id}/resourceGroups/{stroage_account_ressource_group_name}/providers/Microsoft.Storage/storageAccounts/{storage_account_name}/;\"\n",
        "\n",
        "azure_openai_endpoint = os.environ[\"AZURE_OPENAI_ENDPOINT\"]\n",
        "azure_openai_key =  os.environ[\"AZURE_OPENAI_KEY\"] \n",
        "azure_openai_embedding_deployment = os.environ[\"AZURE_OPENAI_EMBEDDING_DEPLOYMENT\"]\n",
        "azure_openai_model_name = os.environ[\"AZURE_OPENAI_EMBEDDING_MODEL_NAME\"]\n",
        "azure_openai_model_dimensions = int(os.getenv(\"AZURE_OPENAI_EMBEDDING_DIMENSIONS\", 3072))\n",
        "\n",
        "azure_ai_services_endpoint= os.environ[\"AZURE_AI_SERVICES_ENDPOINT\"]\n",
        "azure_ai_services_key= os.environ[\"AZURE_AI_SERVICES_KEY\"]"
      ]
    },
    {
      "cell_type": "markdown",
      "metadata": {
        "nteract": {
          "transient": {
            "deleting": false
          }
        }
      },
      "source": [
        "Create a blob data source connector on Azure AI Search\n"
      ]
    },
    {
      "cell_type": "code",
      "execution_count": null,
      "metadata": {
        "gather": {
          "logged": 1720090061592
        },
        "jupyter": {
          "outputs_hidden": false,
          "source_hidden": false
        },
        "nteract": {
          "transient": {
            "deleting": false
          }
        }
      },
      "outputs": [],
      "source": [
        "from azure.search.documents.indexes import SearchIndexerClient\n",
        "from azure.search.documents.indexes.models import (\n",
        "    SearchIndexerDataContainer,\n",
        "    SearchIndexerDataSourceConnection\n",
        ")\n",
        "#create the indexer client\n",
        "indexer_client = SearchIndexerClient(aisearch_endpoint, aisearch_key)  \n",
        "\n",
        "# Define the data source  \n",
        "data_source = SearchIndexerDataSourceConnection(  \n",
        "    name=f\"{index_name}-blob\",  \n",
        "    type=\"azureblob\",  \n",
        "    connection_string= aisearch_datasource_connection_string ,  \n",
        "    container=SearchIndexerDataContainer(name=\"demo-indexer-storage\")  \n",
        ")  \n",
        "indexer_client.create_or_update_data_source_connection(data_source)  \n",
        "print(f\"Data source '{data_source.name}' created or updated.\")\n",
        "print(\"ASSIGN THE STORAGE BLOB DATA READER ROLE TO YOUR AI SEARCH INSTANCE OVER THE STORAGE ACCOUNT\")"
      ]
    },
    {
      "cell_type": "markdown",
      "metadata": {
        "nteract": {
          "transient": {
            "deleting": false
          }
        }
      },
      "source": [
        "Create a search index\n"
      ]
    },
    {
      "cell_type": "code",
      "execution_count": null,
      "metadata": {
        "gather": {
          "logged": 1720090065953
        },
        "jupyter": {
          "outputs_hidden": false,
          "source_hidden": false
        },
        "nteract": {
          "transient": {
            "deleting": false
          }
        }
      },
      "outputs": [],
      "source": [
        "from azure.search.documents.indexes import SearchIndexClient\n",
        "from azure.search.documents.indexes.models import (\n",
        "    SearchField,\n",
        "    SearchFieldDataType,\n",
        "    VectorSearch,\n",
        "    HnswAlgorithmConfiguration,\n",
        "    VectorSearchProfile,\n",
        "    AzureOpenAIVectorizer,\n",
        "    AzureOpenAIParameters,\n",
        "    AIServicesVisionVectorizer,\n",
        "    AIServicesVisionParameters,\n",
        "    SemanticConfiguration,\n",
        "    SemanticSearch,\n",
        "    SemanticPrioritizedFields,\n",
        "    SemanticField,\n",
        "    SearchIndex\n",
        ")\n",
        "# Create a client\n",
        "search_client = SearchIndexClient(aisearch_endpoint, aisearch_key)\n",
        "\n",
        "# Define the index schema\n",
        "fields = [\n",
        "    SearchField(name=\"text_parent_id\", type=SearchFieldDataType.String, sortable=True, filterable=True, facetable=True),\n",
        "    SearchField(name=\"image_parent_id\", type=SearchFieldDataType.String, sortable=True, filterable=True, facetable=True),\n",
        "    SearchField(name=\"title\", type=SearchFieldDataType.String),\n",
        "    SearchField(name=\"chunk_id\", type=SearchFieldDataType.String, key=True, sortable=True, filterable=True, facetable=True, analyzer_name=\"keyword\"),\n",
        "    SearchField(name=\"chunk\", type=SearchFieldDataType.String, sortable=False, filterable=False, facetable=False),\n",
        "    SearchField(name=\"textvector\", type=SearchFieldDataType.Collection(SearchFieldDataType.Single), vector_search_dimensions=azure_openai_model_dimensions, vector_search_profile_name=\"myHnswAOAIProfile\"),\n",
        "    SearchField(name=\"imagevector\", type=SearchFieldDataType.Collection(SearchFieldDataType.Single), vector_search_dimensions=1024, vector_search_profile_name=\"myHnswVisionProfile\"),\n",
        "]\n",
        "\n",
        "# Configure the vector search configuration\n",
        "vector_search = VectorSearch(\n",
        "    algorithms=[\n",
        "        HnswAlgorithmConfiguration(name=\"myHnsw\"),\n",
        "    ],\n",
        "    profiles=[\n",
        "        VectorSearchProfile(\n",
        "            name=\"myHnswAOAIProfile\",\n",
        "            algorithm_configuration_name=\"myHnsw\",\n",
        "            vectorizer=\"DemoAOAIVectorizer\"\n",
        "        ),\n",
        "        VectorSearchProfile(\n",
        "            name=\"myHnswVisionProfile\",\n",
        "            algorithm_configuration_name=\"myHnsw\",\n",
        "            vectorizer=\"DemoAIServicesVectorizer\"\n",
        "        )\n",
        "    ],\n",
        "    vectorizers=[\n",
        "        AIServicesVisionVectorizer(\n",
        "            name=\"DemoAIServicesVectorizer\",\n",
        "            kind=\"aiServicesVision\",\n",
        "            ai_services_vision_parameters=AIServicesVisionParameters(\n",
        "                model_version=\"2023-04-15\",\n",
        "                resource_uri=azure_ai_services_endpoint,\n",
        "                api_key=azure_ai_services_key,\n",
        "            )\n",
        "        ),\n",
        "\n",
        "        AzureOpenAIVectorizer(\n",
        "            name=\"DemoAOAIVectorizer\",\n",
        "            kind=\"azureOpenAI\",\n",
        "            azure_open_ai_parameters=AzureOpenAIParameters(\n",
        "                resource_uri=azure_openai_endpoint,\n",
        "                deployment_id=azure_openai_embedding_deployment,\n",
        "                model_name=azure_openai_model_name,\n",
        "                api_key=azure_ai_services_key,\n",
        "            ),\n",
        "        )\n",
        "    ],\n",
        ")\n",
        "\n",
        "semantic_config = SemanticConfiguration(\n",
        "    name=\"my-semantic-config\",\n",
        "    prioritized_fields=SemanticPrioritizedFields(\n",
        "        title_field=SemanticField(field_name=\"title\"),\n",
        "        content_fields=[SemanticField(field_name=\"chunk\")]\n",
        "    )\n",
        ")\n",
        "# Create the semantic settings with the configuration\n",
        "semantic_search = SemanticSearch(configurations=[semantic_config])\n",
        "\n",
        "# Create the search index with the semantic settings\n",
        "index = SearchIndex(name=index_name, fields=fields,\n",
        "                    vector_search=vector_search, semantic_search=semantic_search)\n",
        "\n",
        "search_client.create_or_update_index(index)\n",
        "\n",
        "print(f\"Index '{index.name}' created or updated\")"
      ]
    },
    {
      "cell_type": "markdown",
      "metadata": {
        "nteract": {
          "transient": {
            "deleting": false
          }
        }
      },
      "source": [
        "Create a skillset"
      ]
    },
    {
      "cell_type": "code",
      "execution_count": null,
      "metadata": {
        "gather": {
          "logged": 1720090070844
        },
        "jupyter": {
          "outputs_hidden": false,
          "source_hidden": false
        },
        "nteract": {
          "transient": {
            "deleting": false
          }
        }
      },
      "outputs": [],
      "source": [
        "from azure.search.documents.indexes.models import (\n",
        "    SplitSkill,\n",
        "    InputFieldMappingEntry,\n",
        "    OutputFieldMappingEntry,\n",
        "    AzureOpenAIEmbeddingSkill,\n",
        "    OcrSkill,\n",
        "    MergeSkill,\n",
        "    SearchIndexerIndexProjections,\n",
        "    SearchIndexerIndexProjectionSelector,\n",
        "    SearchIndexerIndexProjectionsParameters,\n",
        "    IndexProjectionMode,\n",
        "    SearchIndexerSkillset,\n",
        "    CognitiveServicesAccountKey,\n",
        "    VisionVectorizeSkill \n",
        ")\n",
        "\n",
        "# Define the skillset \n",
        "\n",
        "split_skill = SplitSkill(  \n",
        "    description=\"Split skill to chunk documents\",  \n",
        "    text_split_mode=\"pages\",  \n",
        "    context=\"/document\",  \n",
        "    maximum_page_length=2000,  \n",
        "    page_overlap_length=500,  \n",
        "    inputs=[  \n",
        "        InputFieldMappingEntry(name=\"text\", source=\"/document/content\"),  \n",
        "    ],  \n",
        "    outputs=[  \n",
        "        OutputFieldMappingEntry(name=\"textItems\", target_name=\"pages\")  \n",
        "    ],  \n",
        ")  \n",
        "\n",
        "vision_skill = VisionVectorizeSkill(\n",
        "    description=\"Vision skill to generate vector representation of images\",\n",
        "    context= \"/document/normalized_images/*\",\n",
        "    inputs=[  \n",
        "        InputFieldMappingEntry(name=\"image\", source= \"/document/normalized_images/*\"),  \n",
        "    ],  \n",
        "    outputs=[  \n",
        "        OutputFieldMappingEntry(name=\"vector\", target_name=\"imagevector\")  \n",
        "    ],\n",
        "    model_version=\"2023-04-15\"\n",
        ")\n",
        "  \n",
        "embedding_skill = AzureOpenAIEmbeddingSkill(  \n",
        "    description=\"Skill to generate embeddings via Azure OpenAI\",  \n",
        "    context=\"/document/pages/*\",  \n",
        "    resource_uri=azure_openai_endpoint,  \n",
        "    deployment_id=azure_openai_embedding_deployment,  \n",
        "    model_name=azure_openai_model_name,\n",
        "    dimensions=azure_openai_model_dimensions,\n",
        "    api_key=azure_openai_key,  \n",
        "    inputs=[  \n",
        "        InputFieldMappingEntry(name=\"text\", source=\"/document/pages/*\"),  \n",
        "    ],  \n",
        "    outputs=[  \n",
        "        OutputFieldMappingEntry(name=\"embedding\", target_name=\"textvector\")  \n",
        "    ],  \n",
        ")  \n",
        "  \n",
        "index_projections = SearchIndexerIndexProjections(  \n",
        "    selectors=[  \n",
        "        SearchIndexerIndexProjectionSelector(  \n",
        "            target_index_name=index_name,  \n",
        "            parent_key_field_name=\"text_parent_id\",  \n",
        "            source_context=\"/document/pages/*\",  \n",
        "            mappings=[  \n",
        "                InputFieldMappingEntry(name=\"chunk\", source=\"/document/pages/*\"),  \n",
        "                InputFieldMappingEntry(name=\"textvector\", source=\"/document/pages/*/textvector\"),\n",
        "                InputFieldMappingEntry(name=\"title\", source=\"/document/metadata_storage_name\"),  \n",
        "            ],  \n",
        "        ), \n",
        "        SearchIndexerIndexProjectionSelector(  \n",
        "            target_index_name=index_name,  \n",
        "            parent_key_field_name=\"image_parent_id\",  \n",
        "            source_context=\"/document/normalized_images/*\",  \n",
        "            mappings=[  \n",
        "               InputFieldMappingEntry(name=\"imagevector\", source=\"/document/normalized_images/*/imagevector\"), \n",
        "            ],  \n",
        "        ), \n",
        "\n",
        "    ],  \n",
        "    parameters=SearchIndexerIndexProjectionsParameters(  \n",
        "        projection_mode=IndexProjectionMode.SKIP_INDEXING_PARENT_DOCUMENTS  \n",
        "    ),  \n",
        ") \n",
        "\n",
        "\n",
        "skills = [split_skill, embedding_skill,vision_skill]\n",
        "\n",
        "skillset = SearchIndexerSkillset(  \n",
        "    name=f\"{index_name}-skillset\",  \n",
        "    description=\"Skillset to chunk documents and generating embeddings\",  \n",
        "    skills=skills,  \n",
        "    index_projections=index_projections,\n",
        "    cognitive_services_account=CognitiveServicesAccountKey(\n",
        "        key=azure_ai_services_key,\n",
        "        description=\"AI Vision Multi Service Account\",\n",
        "    ),\n",
        "\n",
        ")\n",
        "  \n",
        "client = SearchIndexerClient(aisearch_endpoint, aisearch_key)  \n",
        "client.create_or_update_skillset(skillset)  \n",
        "print(f\"{skillset.name} created\")"
      ]
    },
    {
      "cell_type": "code",
      "execution_count": null,
      "metadata": {
        "gather": {
          "logged": 1720090088040
        },
        "jupyter": {
          "outputs_hidden": false,
          "source_hidden": false
        },
        "nteract": {
          "transient": {
            "deleting": false
          }
        }
      },
      "outputs": [],
      "source": [
        "from azure.search.documents.indexes.models import (\n",
        "    SearchIndexer,\n",
        "    FieldMapping,\n",
        "    IndexingParameters,\n",
        "    IndexingParametersConfiguration,\n",
        "    BlobIndexerImageAction\n",
        ")\n",
        "\n",
        "# Create an indexer  \n",
        "indexer_name = f\"{index_name}-indexer\"  \n",
        "\n",
        "indexer_parameters = IndexingParameters (\n",
        "    configuration= IndexingParametersConfiguration(\n",
        "        image_action = \"generateNormalizedImages\",\n",
        "        query_timeout=None,\n",
        "        data_to_extract=\"contentAndMetadata\"\n",
        "        )\n",
        "    )\n",
        "\n",
        "indexer = SearchIndexer(  \n",
        "    name=indexer_name,  \n",
        "    description=\"Indexer to index documents and generate embeddings\",  \n",
        "    skillset_name=f\"{index_name}-skillset\",  \n",
        "    target_index_name=index_name,  \n",
        "    data_source_name=data_source.name,\n",
        "    # Map the metadata_storage_name field to the title field in the index to display the PDF title in the search results  \n",
        "    field_mappings=[FieldMapping(source_field_name=\"metadata_storage_name\", target_field_name=\"title\")],\n",
        "    parameters=indexer_parameters\n",
        ")  \n",
        "\n",
        "indexer_result = indexer_client.create_or_update_indexer(indexer)  \n",
        "  \n",
        "# Run the indexer  \n",
        "indexer_client.run_indexer(indexer_name)  \n",
        "print(f' {indexer_name} is created and running.')  "
      ]
    },
    {
      "cell_type": "code",
      "execution_count": null,
      "metadata": {},
      "outputs": [],
      "source": []
    }
  ],
  "metadata": {
    "kernel_info": {
      "name": "python310-sdkv2"
    },
    "kernelspec": {
      "display_name": ".venv",
      "language": "python",
      "name": "python3"
    },
    "language_info": {
      "codemirror_mode": {
        "name": "ipython",
        "version": 3
      },
      "file_extension": ".py",
      "mimetype": "text/x-python",
      "name": "python",
      "nbconvert_exporter": "python",
      "pygments_lexer": "ipython3",
      "version": "3.12.7"
    },
    "microsoft": {
      "host": {
        "AzureML": {
          "notebookHasBeenCompleted": true
        }
      },
      "ms_spell_check": {
        "ms_spell_check_language": "en"
      }
    },
    "nteract": {
      "version": "nteract-front-end@1.0.0"
    }
  },
  "nbformat": 4,
  "nbformat_minor": 2
}
